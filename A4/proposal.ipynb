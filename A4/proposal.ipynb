{
 "cells": [
  {
   "cell_type": "markdown",
   "metadata": {},
   "source": [
    "COVID influences us so much and changes our life especially our travel. People need to stay home to avoid COVID. There are also a lot of “ban laws” that limit flight and restrict people at home. I want to instavage how COVID influences our travel. I think from the result, we can also see what city has been influenced most. I think it should be a quantitative study but also involve human data because we need to check different factors that influence people’s travel. \\n\n",
    "The dataset I’m trying to use is from  [Bureau of Transportation Statistics](https://www.transtats.bts.gov/DL_SelectFields.aspx?gnoyr_VQ=GED&QO_fu146_anzr=Nv4%20Pn44vr45). It contains flight’s information such as carrier, delay, cancellation, origin city, depeature city, etc. The data collected by authority, so it should be tusty. My colleagues suggested that I check the cancellation and what caused the flight to be canceled. But when I look up the data, there is a dataset containing that information but each dataset is separate by month and each file has over 500000 rows. So it will be a challenge and wastes time to collect those data and analyze them myself. [Here](https://www.transtats.bts.gov/homepage.asp) are some visualizations that the bureau already makes, so I’m planning to use those. \n"
   ]
  },
  {
   "cell_type": "markdown",
   "metadata": {},
   "source": []
  }
 ],
 "metadata": {
  "language_info": {
   "name": "python"
  },
  "orig_nbformat": 4
 },
 "nbformat": 4,
 "nbformat_minor": 2
}
