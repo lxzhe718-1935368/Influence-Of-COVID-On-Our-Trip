{
 "cells": [
  {
   "cell_type": "markdown",
   "metadata": {},
   "source": [
    "### Final project Plan\n",
    "#### Jack Liu\n",
    "&ensp; COVID influences us so much and changes our life especially our travel. People need to stay home to avoid COVID. There are also a lot of “ban laws” that limit flight and restrict people at home. So there must be some consequences to people's lives. For this project I want to instavage how COVID influences our travel. So the research questions are **does COVID influence people's mobility, if so how badly it affects us COVID. Also which city being influence the most by COVID**. My hypothesis is there will be at least 30% decrease in flight because of the COVID. I think it should be a quantitative study but also involve human data because we need to check different factors that influence people’s travel. <BR>\n",
    "&ensp; In China, there are really heavy influences in people's travel. I read a lot of articles about the Chinese civil aviation industry’s report and they show domestic flights drop about 45% and international flights drop about 85%([source but in chinese](https://baijiahao.baidu.com/s?id=1728787497302380294&wfr=spider&for=pc)). There are also a lot of ban laws. In summer 2020, I’m planning to go back to China, but there are few flights due to the new ban law and the ticket usually costs 10000$. I think civil aviation is one of the worst affected industries by COVID. But I did not know to much about U.S. So I’m planning to instvage the situation in U.S.<br> \n",
    "&ensp; The dataset I’m trying to use is from  [Bureau of Transportation Statistics](https://www.transtats.bts.gov/DL_SelectFields.aspx?gnoyr_VQ=GED&QO_fu146_anzr=Nv4%20Pn44vr45). It contains flight’s information such as carrier, delay, cancellation, origin city, depeature city, etc. The data collected by authority, so it should be tusty. My colleagues suggested that I check the cancellation and what caused the flight to be canceled. But when I look up the data, there is a dataset containing that information but each dataset is separate by month and each file has over 500000 rows. So it will be a challenge and wastes time to collect those data and analyze them myself. [Here](https://www.transtats.bts.gov/homepage.asp) are some visualizations that the bureau already makes, so I’m planning to use those.<br>\n",
    "&ensp; Inorder to figure out the change in flight, I’m going to look at corresponding periods for 2019, 2020, 2021, make bar and line visualizations and do some math to calculate the percentage of the change. I’m going to use python to do the analysis with pandas, seaborn and matplotlib library.\n",
    "  - Methodology part one: \n",
    "  1. Count total flight without NA values for all three dataset and compare them, make a bar graph.\n",
    "  2. Use panda to group each month in 3 dataset and make comparestion. Each dataset will have a graph with 12 month as x-axis, count as y-axis. Then overlay three graphs to see the difference.\n",
    "  3. Compute the number of differences between months with the biggest gap\n",
    "  - Part 2:\n",
    "  1. Use panda group by origin city for the flight, so this will tell us total flight for each city.\n",
    "  2. Make a histogram of top 10 cities that were being influenced the most.\n",
    "  3. Do 1,2 to all three dataset and make a comparison.\n",
    "\n"
   ]
  },
  {
   "cell_type": "markdown",
   "metadata": {},
   "source": []
  }
 ],
 "metadata": {
  "interpreter": {
   "hash": "2aa7953f390f28e7e50d668f5dd71a50654ba94f4b9e6876e74ed7ed7caa2611"
  },
  "kernelspec": {
   "display_name": "Python 3.8.8 ('base')",
   "language": "python",
   "name": "python3"
  },
  "language_info": {
   "name": "python",
   "version": "3.8.8"
  },
  "orig_nbformat": 4
 },
 "nbformat": 4,
 "nbformat_minor": 2
}
